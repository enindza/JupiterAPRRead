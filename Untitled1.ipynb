{
 "cells": [
  {
   "cell_type": "code",
   "execution_count": 1,
   "metadata": {
    "collapsed": true
   },
   "outputs": [
    {
     "name": "stderr",
     "output_type": "stream",
     "text": [
      "C:\\Anaconda3\\lib\\site-packages\\bs4\\__init__.py:181: UserWarning: No parser was explicitly specified, so I'm using the best available HTML parser for this system (\"lxml\"). This usually isn't a problem, but if you run this code on another system, or in a different virtual environment, it may use a different parser and behave differently.\n",
      "\n",
      "The code that caused this warning is on line 184 of the file C:\\Anaconda3\\lib\\runpy.py. To get rid of this warning, change code that looks like this:\n",
      "\n",
      " BeautifulSoup([your markup])\n",
      "\n",
      "to this:\n",
      "\n",
      " BeautifulSoup([your markup], \"lxml\")\n",
      "\n",
      "  markup_type=markup_type))\n"
     ]
    },
    {
     "name": "stdout",
     "output_type": "stream",
     "text": [
      "<RoboForm __RequestVerificationToken=bvND1yIszKYp2ui3O9w3Hv4dnreQvIkFd6CA5NHynYnVKtDSFkuOVJ95EQFKIg/vKMpiA9QCy+0BU417Iiv6ofhvajs24aDX5jyb8uCzy7B4BGxkl+ATGPIlKIBdhgc/FwPeTyBntb4CMwJNM6tz6Oc38wWC/G4ZzPKCQvzawHU=, rdbtnSelectInputType=mbr, SearchByRegistryCodeString=, rdbtnSelectInputType=, SearchByNameString=, SelectedRegisterId=1>\n",
      "<html><body><br/>\n",
      "<p><b><text class=\"Message\"></text></b></p>\n",
      "<table class=\"ContentTable\">\n",
      "<tr class=\"ContentTabelHeader\">\n",
      "<th>\n",
      "            Тип субјекта\n",
      "        </th>\n",
      "<th>\n",
      "            Матични број\n",
      "        </th>\n",
      "<th>\n",
      "            Пословно име\n",
      "        </th>\n",
      "<th>\n",
      "            Статус\n",
      "        </th>\n",
      "<th>\n",
      "            Детаљније\n",
      "        </th>\n",
      "</tr>\n",
      "<tr class=\"ContentTableRowData\">\n",
      "<td>\n",
      "            Акционарско друштво\n",
      "        </td>\n",
      "<td>\n",
      "            08010536\n",
      "        </td>\n",
      "<td>\n",
      "            HEMOFARM AКCIONARSKO DRUŠTVO FARMACEUTSKO-HEMIJSKA INDUSTRIJA VRŠAC\n",
      "        </td>\n",
      "<td>\n",
      "            \n",
      "            Активно привредно друштво\n",
      "        </td>\n",
      "<td>\n",
      "<a href=\"http://pretraga2.apr.gov.rs/EnterprisePublicSearch/details/EnterpriseBusinessName/1021036?code=D4B15C4C74C783948D721C7B61C068E12EE367BE\">детаљније</a>\n",
      "</td>\n",
      "</tr>\n",
      "</table>\n",
      "</body></html>\n",
      "http://pretraga2.apr.gov.rs/EnterprisePublicSearch/details/EnterpriseBusinessName/1021036?code=D4B15C4C74C783948D721C7B61C068E12EE367BE\n",
      "['http://pretraga2.apr.gov.rs/EnterprisePublicSearch/details/EnterpriseBusinessName/1021036?code=D4B15C4C74C783948D721C7B61C068E12EE367BE']\n"
     ]
    }
   ],
   "source": [
    "#!/usr/bin/python\n",
    "# vim: set fileencoding=utf-8 :\n",
    "\n",
    "import requests\n",
    "from bs4 import BeautifulSoup\n",
    "import pprint\n",
    "import urllib.parse\n",
    "import re\n",
    "from robobrowser import RoboBrowser\n",
    "\n",
    "# import warnings\n",
    "# warnings.filterwarnings(\"ignore\")\n",
    "\n",
    "# Browse to Genius\n",
    "browser = RoboBrowser(history=True)\n",
    "hdr = {'User-Agent': 'Mozilla/5.0 (X11; Linux x86_64) AppleWebKit/537.11 (KHTML, like Gecko) Chrome/23.0.1271.64 Safari/537.11',\n",
    "       'Accept': 'text/html,application/xhtml+xml,application/xml;q=0.9,*/*;q=0.8',\n",
    "       'Accept-Charset': 'ISO-8859-1,utf-8;q=0.7,*;q=0.3',\n",
    "       'Accept-Encoding': 'none',\n",
    "       'Accept-Language': 'en-US,en;q=0.8',\n",
    "       'Connection': 'keep-alive'}\n",
    "s = requests.Session()\n",
    "s.headers = hdr\n",
    "browser = RoboBrowser(session=s)\n",
    "browser.open('http://pretraga2.apr.gov.rs/ObjedinjenePretrage/Search/Search')\n",
    "\n",
    "#form = browser.get_form(action='/ObjedinjenePretrage/Search/SearchResult')\n",
    "form = browser.get_forms(action='/ObjedinjenePretrage/Search/SearchResult')[1]\n",
    "pprint.pprint(form)\n",
    "form['SearchByRegistryCodeString'].value = '08010536'\n",
    "browser.submit_form(form)\n",
    "\n",
    "pprint.pprint(browser.parsed)\n",
    "#soup = BeautifulSoup(browser.parsed, 'html.parser')\n",
    "\n",
    "# Retrieve all of the anchor tags\n",
    "links = []\n",
    "tags = browser.parsed('a')\n",
    "for tag in tags:\n",
    "       links.append(tag.get('href', None))\n",
    "       print(tag.get('href', None))\n",
    "pprint.pprint(links)\n",
    "\n",
    "#open new page with first hint\n",
    "browser.open(links[0])"
   ]
  },
  {
   "cell_type": "code",
   "execution_count": 31,
   "metadata": {
    "collapsed": false
   },
   "outputs": [
    {
     "name": "stdout",
     "output_type": "stream",
     "text": [
      "http://pretraga2.apr.gov.rs/EnterprisePublicSearch/details/EnterpriseBusinessName/1021036?code=D4B15C4C74C783948D721C7B61C068E12EE367BE\n"
     ]
    },
    {
     "ename": "AttributeError",
     "evalue": "'ResultSet' object has no attribute 'content'",
     "output_type": "error",
     "traceback": [
      "\u001b[0;31m---------------------------------------------------------------------------\u001b[0m",
      "\u001b[0;31mAttributeError\u001b[0m                            Traceback (most recent call last)",
      "\u001b[0;32m<ipython-input-31-c0b4996171c0>\u001b[0m in \u001b[0;36m<module>\u001b[0;34m()\u001b[0m\n\u001b[1;32m      2\u001b[0m \u001b[0mtags\u001b[0m \u001b[1;33m=\u001b[0m \u001b[0mbrowser\u001b[0m\u001b[1;33m.\u001b[0m\u001b[0mparsed\u001b[0m\u001b[1;33m(\u001b[0m\u001b[1;34m'p'\u001b[0m\u001b[1;33m)\u001b[0m\u001b[1;33m\u001b[0m\u001b[0m\n\u001b[1;32m      3\u001b[0m \u001b[0mtagovi\u001b[0m \u001b[1;33m=\u001b[0m \u001b[1;33m[\u001b[0m\u001b[1;33m]\u001b[0m\u001b[1;33m\u001b[0m\u001b[0m\n\u001b[0;32m----> 4\u001b[0;31m \u001b[1;32mfor\u001b[0m \u001b[0mtag\u001b[0m \u001b[1;32min\u001b[0m \u001b[0mtags\u001b[0m\u001b[1;33m.\u001b[0m\u001b[0mcontent\u001b[0m\u001b[1;33m:\u001b[0m\u001b[1;33m\u001b[0m\u001b[0m\n\u001b[0m\u001b[1;32m      5\u001b[0m        \u001b[1;31m#links.append(tag.get('href', None))\u001b[0m\u001b[1;33m\u001b[0m\u001b[1;33m\u001b[0m\u001b[0m\n\u001b[1;32m      6\u001b[0m         \u001b[0mtagovi\u001b[0m\u001b[1;33m.\u001b[0m\u001b[0mappend\u001b[0m\u001b[1;33m(\u001b[0m\u001b[0mtag\u001b[0m\u001b[1;33m)\u001b[0m\u001b[1;33m\u001b[0m\u001b[0m\n",
      "\u001b[0;31mAttributeError\u001b[0m: 'ResultSet' object has no attribute 'content'"
     ]
    }
   ],
   "source": [
    "print (links[0])\n",
    "tags = browser.parsed('p')\n",
    "tagovi = []\n",
    "for tag in tags.content:\n",
    "       #links.append(tag.get('href', None))\n",
    "        tagovi.append(tag)\n",
    "        #print (tag)\n",
    "       #print(tag.get('href', None))\n",
    "pprint.pprint(tagovi[0])"
   ]
  },
  {
   "cell_type": "code",
   "execution_count": 22,
   "metadata": {
    "collapsed": false,
    "scrolled": true
   },
   "outputs": [
    {
     "ename": "AttributeError",
     "evalue": "module 'urllib' has no attribute 'urlopen'",
     "output_type": "error",
     "traceback": [
      "\u001b[0;31m---------------------------------------------------------------------------\u001b[0m",
      "\u001b[0;31mAttributeError\u001b[0m                            Traceback (most recent call last)",
      "\u001b[0;32m<ipython-input-22-44c5e1c2f374>\u001b[0m in \u001b[0;36m<module>\u001b[0;34m()\u001b[0m\n\u001b[1;32m      2\u001b[0m \u001b[0murl\u001b[0m \u001b[1;33m=\u001b[0m \u001b[0mlinks\u001b[0m\u001b[1;33m[\u001b[0m\u001b[1;36m0\u001b[0m\u001b[1;33m]\u001b[0m\u001b[1;33m\u001b[0m\u001b[0m\n\u001b[1;32m      3\u001b[0m \u001b[1;33m\u001b[0m\u001b[0m\n\u001b[0;32m----> 4\u001b[0;31m \u001b[0mcontent\u001b[0m \u001b[1;33m=\u001b[0m \u001b[0murllib\u001b[0m\u001b[1;33m.\u001b[0m\u001b[0murlopen\u001b[0m\u001b[1;33m(\u001b[0m\u001b[0murl\u001b[0m\u001b[1;33m)\u001b[0m\u001b[1;33m.\u001b[0m\u001b[0mread\u001b[0m\u001b[1;33m(\u001b[0m\u001b[1;33m)\u001b[0m\u001b[1;33m\u001b[0m\u001b[0m\n\u001b[0m\u001b[1;32m      5\u001b[0m \u001b[1;33m\u001b[0m\u001b[0m\n\u001b[1;32m      6\u001b[0m \u001b[0msoup\u001b[0m \u001b[1;33m=\u001b[0m \u001b[0mBeautifulSoup\u001b[0m\u001b[1;33m(\u001b[0m\u001b[0mcontent\u001b[0m\u001b[1;33m)\u001b[0m\u001b[1;33m\u001b[0m\u001b[0m\n",
      "\u001b[0;31mAttributeError\u001b[0m: module 'urllib' has no attribute 'urlopen'"
     ]
    }
   ],
   "source": [
    "import urllib\n",
    "url = links[0]\n",
    "\n",
    "content = urllib.urlopen(url).read()\n",
    "\n",
    "soup = BeautifulSoup(content)"
   ]
  },
  {
   "cell_type": "code",
   "execution_count": 14,
   "metadata": {
    "collapsed": false,
    "scrolled": true
   },
   "outputs": [
    {
     "ename": "TypeError",
     "evalue": "'NoneType' object is not callable",
     "output_type": "error",
     "traceback": [
      "\u001b[0;31m---------------------------------------------------------------------------\u001b[0m",
      "\u001b[0;31mTypeError\u001b[0m                                 Traceback (most recent call last)",
      "\u001b[0;32m<ipython-input-14-9e26e5e611dc>\u001b[0m in \u001b[0;36m<module>\u001b[0;34m()\u001b[0m\n\u001b[1;32m      1\u001b[0m \u001b[1;32mfrom\u001b[0m \u001b[0mbs4\u001b[0m \u001b[1;32mimport\u001b[0m \u001b[0mBeautifulSoup\u001b[0m\u001b[1;33m\u001b[0m\u001b[0m\n\u001b[0;32m----> 2\u001b[0;31m \u001b[0msoup\u001b[0m \u001b[1;33m=\u001b[0m \u001b[0mBeautifulSoup\u001b[0m\u001b[1;33m(\u001b[0m\u001b[0mhtml_doc\u001b[0m\u001b[1;33m,\u001b[0m \u001b[1;34m'html.parser'\u001b[0m\u001b[1;33m)\u001b[0m\u001b[1;33m\u001b[0m\u001b[0m\n\u001b[0m",
      "\u001b[0;32mC:\\Anaconda3\\lib\\site-packages\\bs4\\__init__.py\u001b[0m in \u001b[0;36m__init__\u001b[0;34m(self, markup, features, builder, parse_only, from_encoding, exclude_encodings, **kwargs)\u001b[0m\n\u001b[1;32m    189\u001b[0m \u001b[1;33m\u001b[0m\u001b[0m\n\u001b[1;32m    190\u001b[0m         \u001b[1;32mif\u001b[0m \u001b[0mhasattr\u001b[0m\u001b[1;33m(\u001b[0m\u001b[0mmarkup\u001b[0m\u001b[1;33m,\u001b[0m \u001b[1;34m'read'\u001b[0m\u001b[1;33m)\u001b[0m\u001b[1;33m:\u001b[0m        \u001b[1;31m# It's a file-type object.\u001b[0m\u001b[1;33m\u001b[0m\u001b[0m\n\u001b[0;32m--> 191\u001b[0;31m             \u001b[0mmarkup\u001b[0m \u001b[1;33m=\u001b[0m \u001b[0mmarkup\u001b[0m\u001b[1;33m.\u001b[0m\u001b[0mread\u001b[0m\u001b[1;33m(\u001b[0m\u001b[1;33m)\u001b[0m\u001b[1;33m\u001b[0m\u001b[0m\n\u001b[0m\u001b[1;32m    192\u001b[0m         elif len(markup) <= 256 and (\n\u001b[1;32m    193\u001b[0m                 \u001b[1;33m(\u001b[0m\u001b[0misinstance\u001b[0m\u001b[1;33m(\u001b[0m\u001b[0mmarkup\u001b[0m\u001b[1;33m,\u001b[0m \u001b[0mbytes\u001b[0m\u001b[1;33m)\u001b[0m \u001b[1;32mand\u001b[0m \u001b[1;32mnot\u001b[0m \u001b[1;34mb'<'\u001b[0m \u001b[1;32min\u001b[0m \u001b[0mmarkup\u001b[0m\u001b[1;33m)\u001b[0m\u001b[1;33m\u001b[0m\u001b[0m\n",
      "\u001b[0;31mTypeError\u001b[0m: 'NoneType' object is not callable"
     ]
    }
   ],
   "source": []
  },
  {
   "cell_type": "code",
   "execution_count": null,
   "metadata": {
    "collapsed": true
   },
   "outputs": [],
   "source": []
  }
 ],
 "metadata": {
  "anaconda-cloud": {},
  "kernelspec": {
   "display_name": "Python [conda root]",
   "language": "python",
   "name": "conda-root-py"
  },
  "language_info": {
   "codemirror_mode": {
    "name": "ipython",
    "version": 3
   },
   "file_extension": ".py",
   "mimetype": "text/x-python",
   "name": "python",
   "nbconvert_exporter": "python",
   "pygments_lexer": "ipython3",
   "version": "3.5.2"
  }
 },
 "nbformat": 4,
 "nbformat_minor": 1
}
