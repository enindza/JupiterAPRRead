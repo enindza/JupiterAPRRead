{
 "cells": [
  {
   "cell_type": "code",
   "execution_count": 2,
   "metadata": {
    "collapsed": false
   },
   "outputs": [
    {
     "ename": "ImportError",
     "evalue": "No module named parse",
     "output_type": "error",
     "traceback": [
      "\u001b[0;31m---------------------------------------------------------------------------\u001b[0m",
      "\u001b[0;31mImportError\u001b[0m                               Traceback (most recent call last)",
      "\u001b[0;32m<ipython-input-2-d3b530571799>\u001b[0m in \u001b[0;36m<module>\u001b[0;34m()\u001b[0m\n\u001b[1;32m      5\u001b[0m \u001b[1;32mfrom\u001b[0m \u001b[0mbs4\u001b[0m \u001b[1;32mimport\u001b[0m \u001b[0mBeautifulSoup\u001b[0m\u001b[1;33m\u001b[0m\u001b[0m\n\u001b[1;32m      6\u001b[0m \u001b[1;32mimport\u001b[0m \u001b[0mpprint\u001b[0m\u001b[1;33m\u001b[0m\u001b[0m\n\u001b[0;32m----> 7\u001b[0;31m \u001b[1;32mimport\u001b[0m \u001b[0murllib\u001b[0m\u001b[1;33m.\u001b[0m\u001b[0mparse\u001b[0m\u001b[1;33m\u001b[0m\u001b[0m\n\u001b[0m\u001b[1;32m      8\u001b[0m \u001b[1;32mimport\u001b[0m \u001b[0mre\u001b[0m\u001b[1;33m\u001b[0m\u001b[0m\n\u001b[1;32m      9\u001b[0m \u001b[1;32mfrom\u001b[0m \u001b[0mrobobrowser\u001b[0m \u001b[1;32mimport\u001b[0m \u001b[0mRoboBrowser\u001b[0m\u001b[1;33m\u001b[0m\u001b[0m\n",
      "\u001b[0;31mImportError\u001b[0m: No module named parse"
     ]
    }
   ],
   "source": [
    "#!/usr/bin/python\n",
    "# vim: set fileencoding=utf-8 :\n",
    "\n",
    "import requests\n",
    "from bs4 import BeautifulSoup\n",
    "import pprint\n",
    "import urllib.parse\n",
    "import re\n",
    "from robobrowser import RoboBrowser\n",
    "\n",
    "# import warnings\n",
    "# warnings.filterwarnings(\"ignore\")\n",
    "\n",
    "# Browse to Genius\n",
    "browser = RoboBrowser(history=True)\n",
    "hdr = {'User-Agent': 'Mozilla/5.0 (X11; Linux x86_64) AppleWebKit/537.11 (KHTML, like Gecko) Chrome/23.0.1271.64 Safari/537.11',\n",
    "       'Accept': 'text/html,application/xhtml+xml,application/xml;q=0.9,*/*;q=0.8',\n",
    "       'Accept-Charset': 'ISO-8859-1,utf-8;q=0.7,*;q=0.3',\n",
    "       'Accept-Encoding': 'none',\n",
    "       'Accept-Language': 'en-US,en;q=0.8',\n",
    "       'Connection': 'keep-alive'}\n",
    "s = requests.Session()\n",
    "s.headers = hdr\n",
    "browser = RoboBrowser(session=s)\n",
    "browser.open('http://pretraga2.apr.gov.rs/ObjedinjenePretrage/Search/Search')\n",
    "\n",
    "#form = browser.get_form(action='/ObjedinjenePretrage/Search/SearchResult')\n",
    "form = browser.get_forms(action='/ObjedinjenePretrage/Search/SearchResult')[1]\n",
    "pprint.pprint(form)\n",
    "form['SearchByRegistryCodeString'].value = '08010536'\n",
    "browser.submit_form(form)\n",
    "\n",
    "pprint.pprint(browser.parsed)\n",
    "#soup = BeautifulSoup(browser.parsed, 'html.parser')\n",
    "\n",
    "# Retrieve all of the anchor tags\n",
    "links = []\n",
    "tags = browser.parsed('a')\n",
    "for tag in tags:\n",
    "       links.append(tag.get('href', None))\n",
    "       print(tag.get('href', None))\n",
    "pprint.pprint(links)\n",
    "\n",
    "#open new page with first hint\n",
    "browser.open(links[0])"
   ]
  },
  {
   "cell_type": "code",
   "execution_count": null,
   "metadata": {
    "collapsed": true
   },
   "outputs": [],
   "source": []
  }
 ],
 "metadata": {
  "anaconda-cloud": {},
  "kernelspec": {
   "display_name": "Python [conda root]",
   "language": "python",
   "name": "conda-root-py"
  },
  "language_info": {
   "codemirror_mode": {
    "name": "ipython",
    "version": 3
   },
   "file_extension": ".py",
   "mimetype": "text/x-python",
   "name": "python",
   "nbconvert_exporter": "python",
   "pygments_lexer": "ipython3",
   "version": "3.5.2"
  }
 },
 "nbformat": 4,
 "nbformat_minor": 1
}
